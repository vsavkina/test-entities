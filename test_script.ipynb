{
  "nbformat": 4,
  "nbformat_minor": 0,
  "metadata": {
    "colab": {
      "provenance": []
    },
    "kernelspec": {
      "name": "python3",
      "display_name": "Python 3"
    },
    "language_info": {
      "name": "python"
    }
  },
  "cells": [
    {
      "cell_type": "markdown",
      "source": [
        "### 0. Загрузка библиотек и моделей"
      ],
      "metadata": {
        "id": "W7nicfmf2ZNz"
      }
    },
    {
      "cell_type": "code",
      "source": [
        "!pip install deeppavlov\n",
        "!python -m deeppavlov install ner_ontonotes_bert_mult_torch\n",
        "!python -m deeppavlov install ner_rus\n",
        "!pip install --upgrade pandas"
      ],
      "metadata": {
        "id": "9eKXLyO1rBRQ"
      },
      "execution_count": null,
      "outputs": []
    },
    {
      "cell_type": "code",
      "source": [
        "!pip install pipreqs"
      ],
      "metadata": {
        "id": "qjZTsoBxsVsf"
      },
      "execution_count": null,
      "outputs": []
    },
    {
      "cell_type": "code",
      "source": [
        "!python -m spacy download ru_core_news_md"
      ],
      "metadata": {
        "id": "gIrpUAxez5QL"
      },
      "execution_count": null,
      "outputs": []
    },
    {
      "cell_type": "code",
      "source": [
        "import pandas as pd\n",
        "from deeppavlov import build_model, configs\n",
        "import spacy\n",
        "import ru_core_news_md as model"
      ],
      "metadata": {
        "id": "RbkXKNw90Qhd"
      },
      "execution_count": 3,
      "outputs": []
    },
    {
      "cell_type": "code",
      "source": [
        "import os\n",
        "if not 'test_data.csv' in os.listdir():\n",
        "  from google.colab import files\n",
        "\n",
        "  uploaded = files.upload()\n",
        "\n",
        "  for fn in uploaded.keys():\n",
        "    print('User uploaded file \"{name}\" with length {length} bytes'.format(\n",
        "        name=fn, length=len(uploaded[fn])))"
      ],
      "metadata": {
        "id": "sHr_8Bc53HW1",
        "colab": {
          "resources": {
            "http://localhost:8080/nbextensions/google.colab/files.js": {
              "data": "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",
              "ok": true,
              "headers": [
                [
                  "content-type",
                  "application/javascript"
                ]
              ],
              "status": 200,
              "status_text": "OK"
            }
          },
          "base_uri": "https://localhost:8080/",
          "height": 91
        },
        "outputId": "0b34bc5f-efc9-4c8d-be68-1d1a65daf07c"
      },
      "execution_count": 5,
      "outputs": [
        {
          "output_type": "display_data",
          "data": {
            "text/plain": [
              "<IPython.core.display.HTML object>"
            ],
            "text/html": [
              "\n",
              "     <input type=\"file\" id=\"files-2ef06c2a-308f-4fef-91d5-dd2588505403\" name=\"files[]\" multiple disabled\n",
              "        style=\"border:none\" />\n",
              "     <output id=\"result-2ef06c2a-308f-4fef-91d5-dd2588505403\">\n",
              "      Upload widget is only available when the cell has been executed in the\n",
              "      current browser session. Please rerun this cell to enable.\n",
              "      </output>\n",
              "      <script src=\"/nbextensions/google.colab/files.js\"></script> "
            ]
          },
          "metadata": {}
        },
        {
          "output_type": "stream",
          "name": "stdout",
          "text": [
            "Saving test_data.csv to test_data.csv\n",
            "User uploaded file \"test_data.csv\" with length 53427 bytes\n"
          ]
        }
      ]
    },
    {
      "cell_type": "markdown",
      "source": [
        "### 1. Содержательная часть"
      ],
      "metadata": {
        "id": "Kz90C59x22oE"
      }
    },
    {
      "cell_type": "markdown",
      "source": [
        "Рассмотрим данные:"
      ],
      "metadata": {
        "id": "ifFn0anLIXqV"
      }
    },
    {
      "cell_type": "code",
      "source": [
        "scripts = pd.read_csv('test_data.csv')\n",
        "scripts.head()"
      ],
      "metadata": {
        "colab": {
          "base_uri": "https://localhost:8080/",
          "height": 354
        },
        "id": "552OQAUAzfdF",
        "outputId": "623735d1-5d31-4bd5-df9f-1514f92ee501"
      },
      "execution_count": 322,
      "outputs": [
        {
          "output_type": "execute_result",
          "data": {
            "text/plain": [
              "   Unnamed: 0  dlg_id  line_n     role  \\\n",
              "0           0       0       0   client   \n",
              "1           1       0       1  manager   \n",
              "2           2       0       2   client   \n",
              "3           3       0       3  manager   \n",
              "4           4       0       4   client   \n",
              "\n",
              "                                                                                                                               text  \\\n",
              "0                                                                                                                              алло   \n",
              "1                                                                                                                 алло здравствуйте   \n",
              "2                                                                                                                       добрый день   \n",
              "3  меня зовут ангелина компания диджитал бизнес звоним вам по поводу продления лицензии а мы с серым у вас скоро срок заканчивается   \n",
              "4                                                                                                                               ага   \n",
              "\n",
              "                                                              insight  \n",
              "0                 greeting=False, farewell=False, name=None, org=None  \n",
              "1                  greeting=True, farewell=False, name=None, org=None  \n",
              "2                 greeting=False, farewell=False, name=None, org=None  \n",
              "3  greeting=False, farewell=False, name=ангелина, org=диджитал бизнес  \n",
              "4                 greeting=False, farewell=False, name=None, org=None  "
            ],
            "text/html": [
              "\n",
              "  <div id=\"df-163cae66-f09b-4b1b-8bbf-d59da7ad2693\">\n",
              "    <div class=\"colab-df-container\">\n",
              "      <div>\n",
              "<style scoped>\n",
              "    .dataframe tbody tr th:only-of-type {\n",
              "        vertical-align: middle;\n",
              "    }\n",
              "\n",
              "    .dataframe tbody tr th {\n",
              "        vertical-align: top;\n",
              "    }\n",
              "\n",
              "    .dataframe thead th {\n",
              "        text-align: right;\n",
              "    }\n",
              "</style>\n",
              "<table border=\"1\" class=\"dataframe\">\n",
              "  <thead>\n",
              "    <tr style=\"text-align: right;\">\n",
              "      <th></th>\n",
              "      <th>Unnamed: 0</th>\n",
              "      <th>dlg_id</th>\n",
              "      <th>line_n</th>\n",
              "      <th>role</th>\n",
              "      <th>text</th>\n",
              "      <th>insight</th>\n",
              "    </tr>\n",
              "  </thead>\n",
              "  <tbody>\n",
              "    <tr>\n",
              "      <th>0</th>\n",
              "      <td>0</td>\n",
              "      <td>0</td>\n",
              "      <td>0</td>\n",
              "      <td>client</td>\n",
              "      <td>алло</td>\n",
              "      <td>greeting=False, farewell=False, name=None, org=None</td>\n",
              "    </tr>\n",
              "    <tr>\n",
              "      <th>1</th>\n",
              "      <td>1</td>\n",
              "      <td>0</td>\n",
              "      <td>1</td>\n",
              "      <td>manager</td>\n",
              "      <td>алло здравствуйте</td>\n",
              "      <td>greeting=True, farewell=False, name=None, org=None</td>\n",
              "    </tr>\n",
              "    <tr>\n",
              "      <th>2</th>\n",
              "      <td>2</td>\n",
              "      <td>0</td>\n",
              "      <td>2</td>\n",
              "      <td>client</td>\n",
              "      <td>добрый день</td>\n",
              "      <td>greeting=False, farewell=False, name=None, org=None</td>\n",
              "    </tr>\n",
              "    <tr>\n",
              "      <th>3</th>\n",
              "      <td>3</td>\n",
              "      <td>0</td>\n",
              "      <td>3</td>\n",
              "      <td>manager</td>\n",
              "      <td>меня зовут ангелина компания диджитал бизнес звоним вам по поводу продления лицензии а мы с серым у вас скоро срок заканчивается</td>\n",
              "      <td>greeting=False, farewell=False, name=ангелина, org=диджитал бизнес</td>\n",
              "    </tr>\n",
              "    <tr>\n",
              "      <th>4</th>\n",
              "      <td>4</td>\n",
              "      <td>0</td>\n",
              "      <td>4</td>\n",
              "      <td>client</td>\n",
              "      <td>ага</td>\n",
              "      <td>greeting=False, farewell=False, name=None, org=None</td>\n",
              "    </tr>\n",
              "  </tbody>\n",
              "</table>\n",
              "</div>\n",
              "      <button class=\"colab-df-convert\" onclick=\"convertToInteractive('df-163cae66-f09b-4b1b-8bbf-d59da7ad2693')\"\n",
              "              title=\"Convert this dataframe to an interactive table.\"\n",
              "              style=\"display:none;\">\n",
              "        \n",
              "  <svg xmlns=\"http://www.w3.org/2000/svg\" height=\"24px\"viewBox=\"0 0 24 24\"\n",
              "       width=\"24px\">\n",
              "    <path d=\"M0 0h24v24H0V0z\" fill=\"none\"/>\n",
              "    <path d=\"M18.56 5.44l.94 2.06.94-2.06 2.06-.94-2.06-.94-.94-2.06-.94 2.06-2.06.94zm-11 1L8.5 8.5l.94-2.06 2.06-.94-2.06-.94L8.5 2.5l-.94 2.06-2.06.94zm10 10l.94 2.06.94-2.06 2.06-.94-2.06-.94-.94-2.06-.94 2.06-2.06.94z\"/><path d=\"M17.41 7.96l-1.37-1.37c-.4-.4-.92-.59-1.43-.59-.52 0-1.04.2-1.43.59L10.3 9.45l-7.72 7.72c-.78.78-.78 2.05 0 2.83L4 21.41c.39.39.9.59 1.41.59.51 0 1.02-.2 1.41-.59l7.78-7.78 2.81-2.81c.8-.78.8-2.07 0-2.86zM5.41 20L4 18.59l7.72-7.72 1.47 1.35L5.41 20z\"/>\n",
              "  </svg>\n",
              "      </button>\n",
              "      \n",
              "  <style>\n",
              "    .colab-df-container {\n",
              "      display:flex;\n",
              "      flex-wrap:wrap;\n",
              "      gap: 12px;\n",
              "    }\n",
              "\n",
              "    .colab-df-convert {\n",
              "      background-color: #E8F0FE;\n",
              "      border: none;\n",
              "      border-radius: 50%;\n",
              "      cursor: pointer;\n",
              "      display: none;\n",
              "      fill: #1967D2;\n",
              "      height: 32px;\n",
              "      padding: 0 0 0 0;\n",
              "      width: 32px;\n",
              "    }\n",
              "\n",
              "    .colab-df-convert:hover {\n",
              "      background-color: #E2EBFA;\n",
              "      box-shadow: 0px 1px 2px rgba(60, 64, 67, 0.3), 0px 1px 3px 1px rgba(60, 64, 67, 0.15);\n",
              "      fill: #174EA6;\n",
              "    }\n",
              "\n",
              "    [theme=dark] .colab-df-convert {\n",
              "      background-color: #3B4455;\n",
              "      fill: #D2E3FC;\n",
              "    }\n",
              "\n",
              "    [theme=dark] .colab-df-convert:hover {\n",
              "      background-color: #434B5C;\n",
              "      box-shadow: 0px 1px 3px 1px rgba(0, 0, 0, 0.15);\n",
              "      filter: drop-shadow(0px 1px 2px rgba(0, 0, 0, 0.3));\n",
              "      fill: #FFFFFF;\n",
              "    }\n",
              "  </style>\n",
              "\n",
              "      <script>\n",
              "        const buttonEl =\n",
              "          document.querySelector('#df-163cae66-f09b-4b1b-8bbf-d59da7ad2693 button.colab-df-convert');\n",
              "        buttonEl.style.display =\n",
              "          google.colab.kernel.accessAllowed ? 'block' : 'none';\n",
              "\n",
              "        async function convertToInteractive(key) {\n",
              "          const element = document.querySelector('#df-163cae66-f09b-4b1b-8bbf-d59da7ad2693');\n",
              "          const dataTable =\n",
              "            await google.colab.kernel.invokeFunction('convertToInteractive',\n",
              "                                                     [key], {});\n",
              "          if (!dataTable) return;\n",
              "\n",
              "          const docLinkHtml = 'Like what you see? Visit the ' +\n",
              "            '<a target=\"_blank\" href=https://colab.research.google.com/notebooks/data_table.ipynb>data table notebook</a>'\n",
              "            + ' to learn more about interactive tables.';\n",
              "          element.innerHTML = '';\n",
              "          dataTable['output_type'] = 'display_data';\n",
              "          await google.colab.output.renderOutput(dataTable, element);\n",
              "          const docLink = document.createElement('div');\n",
              "          docLink.innerHTML = docLinkHtml;\n",
              "          element.appendChild(docLink);\n",
              "        }\n",
              "      </script>\n",
              "    </div>\n",
              "  </div>\n",
              "  "
            ]
          },
          "metadata": {},
          "execution_count": 322
        }
      ]
    },
    {
      "cell_type": "code",
      "source": [
        "scripts.loc[:, 'text'] = scripts.text.apply(str.lower)\n",
        "scripts.head()"
      ],
      "metadata": {
        "colab": {
          "base_uri": "https://localhost:8080/",
          "height": 337
        },
        "id": "miBBPyEP9f-O",
        "outputId": "0cd01ff0-b54b-432c-e94d-9cb5bd92a16d"
      },
      "execution_count": 321,
      "outputs": [
        {
          "output_type": "execute_result",
          "data": {
            "text/plain": [
              "   dlg_id  line_n     role  \\\n",
              "0       0       0   client   \n",
              "1       0       1  manager   \n",
              "2       0       2   client   \n",
              "3       0       3  manager   \n",
              "4       0       4   client   \n",
              "\n",
              "                                                                                                                               text  \\\n",
              "0                                                                                                                              алло   \n",
              "1                                                                                                                 алло здравствуйте   \n",
              "2                                                                                                                       добрый день   \n",
              "3  меня зовут ангелина компания диджитал бизнес звоним вам по поводу продления лицензии а мы с серым у вас скоро срок заканчивается   \n",
              "4                                                                                                                               ага   \n",
              "\n",
              "                                                              insight  \n",
              "0                 greeting=False, farewell=False, name=None, org=None  \n",
              "1                  greeting=True, farewell=False, name=None, org=None  \n",
              "2                 greeting=False, farewell=False, name=None, org=None  \n",
              "3  greeting=False, farewell=False, name=ангелина, org=диджитал бизнес  \n",
              "4                 greeting=False, farewell=False, name=None, org=None  "
            ],
            "text/html": [
              "\n",
              "  <div id=\"df-b24cb67e-af6e-4505-9335-4949745fe06f\">\n",
              "    <div class=\"colab-df-container\">\n",
              "      <div>\n",
              "<style scoped>\n",
              "    .dataframe tbody tr th:only-of-type {\n",
              "        vertical-align: middle;\n",
              "    }\n",
              "\n",
              "    .dataframe tbody tr th {\n",
              "        vertical-align: top;\n",
              "    }\n",
              "\n",
              "    .dataframe thead th {\n",
              "        text-align: right;\n",
              "    }\n",
              "</style>\n",
              "<table border=\"1\" class=\"dataframe\">\n",
              "  <thead>\n",
              "    <tr style=\"text-align: right;\">\n",
              "      <th></th>\n",
              "      <th>dlg_id</th>\n",
              "      <th>line_n</th>\n",
              "      <th>role</th>\n",
              "      <th>text</th>\n",
              "      <th>insight</th>\n",
              "    </tr>\n",
              "  </thead>\n",
              "  <tbody>\n",
              "    <tr>\n",
              "      <th>0</th>\n",
              "      <td>0</td>\n",
              "      <td>0</td>\n",
              "      <td>client</td>\n",
              "      <td>алло</td>\n",
              "      <td>greeting=False, farewell=False, name=None, org=None</td>\n",
              "    </tr>\n",
              "    <tr>\n",
              "      <th>1</th>\n",
              "      <td>0</td>\n",
              "      <td>1</td>\n",
              "      <td>manager</td>\n",
              "      <td>алло здравствуйте</td>\n",
              "      <td>greeting=True, farewell=False, name=None, org=None</td>\n",
              "    </tr>\n",
              "    <tr>\n",
              "      <th>2</th>\n",
              "      <td>0</td>\n",
              "      <td>2</td>\n",
              "      <td>client</td>\n",
              "      <td>добрый день</td>\n",
              "      <td>greeting=False, farewell=False, name=None, org=None</td>\n",
              "    </tr>\n",
              "    <tr>\n",
              "      <th>3</th>\n",
              "      <td>0</td>\n",
              "      <td>3</td>\n",
              "      <td>manager</td>\n",
              "      <td>меня зовут ангелина компания диджитал бизнес звоним вам по поводу продления лицензии а мы с серым у вас скоро срок заканчивается</td>\n",
              "      <td>greeting=False, farewell=False, name=ангелина, org=диджитал бизнес</td>\n",
              "    </tr>\n",
              "    <tr>\n",
              "      <th>4</th>\n",
              "      <td>0</td>\n",
              "      <td>4</td>\n",
              "      <td>client</td>\n",
              "      <td>ага</td>\n",
              "      <td>greeting=False, farewell=False, name=None, org=None</td>\n",
              "    </tr>\n",
              "  </tbody>\n",
              "</table>\n",
              "</div>\n",
              "      <button class=\"colab-df-convert\" onclick=\"convertToInteractive('df-b24cb67e-af6e-4505-9335-4949745fe06f')\"\n",
              "              title=\"Convert this dataframe to an interactive table.\"\n",
              "              style=\"display:none;\">\n",
              "        \n",
              "  <svg xmlns=\"http://www.w3.org/2000/svg\" height=\"24px\"viewBox=\"0 0 24 24\"\n",
              "       width=\"24px\">\n",
              "    <path d=\"M0 0h24v24H0V0z\" fill=\"none\"/>\n",
              "    <path d=\"M18.56 5.44l.94 2.06.94-2.06 2.06-.94-2.06-.94-.94-2.06-.94 2.06-2.06.94zm-11 1L8.5 8.5l.94-2.06 2.06-.94-2.06-.94L8.5 2.5l-.94 2.06-2.06.94zm10 10l.94 2.06.94-2.06 2.06-.94-2.06-.94-.94-2.06-.94 2.06-2.06.94z\"/><path d=\"M17.41 7.96l-1.37-1.37c-.4-.4-.92-.59-1.43-.59-.52 0-1.04.2-1.43.59L10.3 9.45l-7.72 7.72c-.78.78-.78 2.05 0 2.83L4 21.41c.39.39.9.59 1.41.59.51 0 1.02-.2 1.41-.59l7.78-7.78 2.81-2.81c.8-.78.8-2.07 0-2.86zM5.41 20L4 18.59l7.72-7.72 1.47 1.35L5.41 20z\"/>\n",
              "  </svg>\n",
              "      </button>\n",
              "      \n",
              "  <style>\n",
              "    .colab-df-container {\n",
              "      display:flex;\n",
              "      flex-wrap:wrap;\n",
              "      gap: 12px;\n",
              "    }\n",
              "\n",
              "    .colab-df-convert {\n",
              "      background-color: #E8F0FE;\n",
              "      border: none;\n",
              "      border-radius: 50%;\n",
              "      cursor: pointer;\n",
              "      display: none;\n",
              "      fill: #1967D2;\n",
              "      height: 32px;\n",
              "      padding: 0 0 0 0;\n",
              "      width: 32px;\n",
              "    }\n",
              "\n",
              "    .colab-df-convert:hover {\n",
              "      background-color: #E2EBFA;\n",
              "      box-shadow: 0px 1px 2px rgba(60, 64, 67, 0.3), 0px 1px 3px 1px rgba(60, 64, 67, 0.15);\n",
              "      fill: #174EA6;\n",
              "    }\n",
              "\n",
              "    [theme=dark] .colab-df-convert {\n",
              "      background-color: #3B4455;\n",
              "      fill: #D2E3FC;\n",
              "    }\n",
              "\n",
              "    [theme=dark] .colab-df-convert:hover {\n",
              "      background-color: #434B5C;\n",
              "      box-shadow: 0px 1px 3px 1px rgba(0, 0, 0, 0.15);\n",
              "      filter: drop-shadow(0px 1px 2px rgba(0, 0, 0, 0.3));\n",
              "      fill: #FFFFFF;\n",
              "    }\n",
              "  </style>\n",
              "\n",
              "      <script>\n",
              "        const buttonEl =\n",
              "          document.querySelector('#df-b24cb67e-af6e-4505-9335-4949745fe06f button.colab-df-convert');\n",
              "        buttonEl.style.display =\n",
              "          google.colab.kernel.accessAllowed ? 'block' : 'none';\n",
              "\n",
              "        async function convertToInteractive(key) {\n",
              "          const element = document.querySelector('#df-b24cb67e-af6e-4505-9335-4949745fe06f');\n",
              "          const dataTable =\n",
              "            await google.colab.kernel.invokeFunction('convertToInteractive',\n",
              "                                                     [key], {});\n",
              "          if (!dataTable) return;\n",
              "\n",
              "          const docLinkHtml = 'Like what you see? Visit the ' +\n",
              "            '<a target=\"_blank\" href=https://colab.research.google.com/notebooks/data_table.ipynb>data table notebook</a>'\n",
              "            + ' to learn more about interactive tables.';\n",
              "          element.innerHTML = '';\n",
              "          dataTable['output_type'] = 'display_data';\n",
              "          await google.colab.output.renderOutput(dataTable, element);\n",
              "          const docLink = document.createElement('div');\n",
              "          docLink.innerHTML = docLinkHtml;\n",
              "          element.appendChild(docLink);\n",
              "        }\n",
              "      </script>\n",
              "    </div>\n",
              "  </div>\n",
              "  "
            ]
          },
          "metadata": {},
          "execution_count": 321
        }
      ]
    },
    {
      "cell_type": "markdown",
      "source": [
        "Разные диалоги различаются по переменной dlg_id, реплики для проверки отмечены как 'manager' в столбце role.\n",
        "Извлечем нумерацию из dlg_id, чтобы позже было удобно группировать фразы под иалогам:"
      ],
      "metadata": {
        "id": "n8nZ7uFJOrtS"
      }
    },
    {
      "cell_type": "code",
      "source": [
        "dialogs_id = pd.unique(scripts.dlg_id)"
      ],
      "metadata": {
        "id": "l3oBVe7BQf4b"
      },
      "execution_count": 123,
      "outputs": []
    },
    {
      "cell_type": "markdown",
      "source": [
        "Учитывая формальный характер беседы, а также то, что мы имеем дело со скриптом диалогов, для извлечения именованных сущностей первая идея - проверить реплики, содержащие фразы \"меня зовут\" (для имени):"
      ],
      "metadata": {
        "id": "fySdWeAlOMlc"
      }
    },
    {
      "cell_type": "code",
      "source": [
        "lines_with_names = scripts[(scripts.text.str.contains('меня')) & (scripts.text.str.contains('зовут'))]\n",
        "lines_with_names.text.values"
      ],
      "metadata": {
        "colab": {
          "base_uri": "https://localhost:8080/"
        },
        "id": "SSydaMDL86Cc",
        "outputId": "c762b100-b95a-4f12-c00d-e7a5c3a692e5"
      },
      "execution_count": 69,
      "outputs": [
        {
          "output_type": "execute_result",
          "data": {
            "text/plain": [
              "array(['меня зовут ангелина компания диджитал бизнес звоним вам по поводу продления лицензии а мы с серым у вас скоро срок заканчивается',\n",
              "       'меня зовут ангелина компания диджитал бизнес звоню вам по поводу продления а мы сели обратила внимание что у вас срок заканчивается',\n",
              "       'меня зовут ангелина компания диджитал бизнес звоню вам по поводу продления лицензии а мастера мы с вами сотрудничали по видео там',\n",
              "       'добрый меня максим зовут компания китобизнес удобно говорить'],\n",
              "      dtype=object)"
            ]
          },
          "metadata": {},
          "execution_count": 69
        }
      ]
    },
    {
      "cell_type": "markdown",
      "source": [
        "В полученных репликах действительно есть имена, а также названия фирм. Заметно, что у этих реплик похожий паттерн - можно это использовать для извлечения именованных сущностей позже.\n",
        "\n",
        "Возьмем эти реплики в качестве тестовых для трех моделей извлечения сущностей: мультиязыковой bert, Bi-LSTM модель для русского языка (deeppavlov) и spacy для русского языка."
      ],
      "metadata": {
        "id": "_l7xZz78lDZV"
      }
    },
    {
      "cell_type": "code",
      "source": [
        "ner_model_spacy = model.load()\n",
        "doc = ner_model_spacy('\\n'.join(scripts.text.values).lower())\n",
        "\n",
        "ner_model_pavlov = build_model(configs.ner.ner_ontonotes_bert_mult_torch , download=True)\n",
        "ner_model_p_rus = build_model(configs.ner.ner_rus , download=True)"
      ],
      "metadata": {
        "id": "f_iBViZ1DWaN"
      },
      "execution_count": null,
      "outputs": []
    },
    {
      "cell_type": "markdown",
      "source": [
        "В данных не сохранился синтаксис и исходная капитализация слов, что могло бы облегчить обнаружение именованных сущностей. Чтобы как-то это компенсировать, протестируем модели на трех вариантах каждой реплики: состоящей полностью из маленьких букв, из больших букв, и из слов, где первая буква - заглавная."
      ],
      "metadata": {
        "id": "c_mMkSELn7S-"
      }
    },
    {
      "cell_type": "code",
      "source": [
        "all_lower = lines_with_names.text\n",
        "all_upper = lines_with_names.text.apply(str.upper)\n",
        "uppercase = lines_with_names.text.apply(lambda s: ' '.join([word.upper()[0] + word.lower()[1:] for word in s.split()]))\n",
        "\n",
        "order_data = ['lower', 'upper', 'uppercase']\n",
        "order_model = ['pavlov_multiligual', 'pavlov_rus', 'spacy_rus']\n",
        "\n",
        "performance = pd.DataFrame(index = order_data, columns = order_model)\n",
        "pd.set_option('display.max_colwidth', None)\n",
        "\n",
        "for no, case in enumerate((all_lower, all_upper, uppercase)):\n",
        "\n",
        "  for index, model in enumerate((ner_model_pavlov, ner_model_p_rus, ner_model_spacy)):\n",
        "\n",
        "    if index == 2:\n",
        "\n",
        "      entities = model('\\n'.join(case.values)).ents\n",
        "      performance.loc[order_data[no], order_model[index]] = [(e, e.label_) for e in entities]\n",
        "\n",
        "    else:\n",
        "\n",
        "      sents, labels = model(case.values)\n",
        "      performance.loc[order_data[no], order_model[index]] = [ent for sent, lbls in (zip(sents,labels)) for ent in zip(sent, lbls) if ent[1] != 'O']\n",
        "      \n",
        "performance"
      ],
      "metadata": {
        "id": "CYVyLsLSCGuf",
        "colab": {
          "base_uri": "https://localhost:8080/",
          "height": 586
        },
        "outputId": "be907e93-ed49-4cd4-d2d3-34b0248a4a32"
      },
      "execution_count": 117,
      "outputs": [
        {
          "output_type": "execute_result",
          "data": {
            "text/plain": [
              "                                                                               pavlov_multiligual  \\\n",
              "lower                                                                                          []   \n",
              "upper                                                                                          []   \n",
              "uppercase  [(Ангелина, B-PERSON), (Ангелина, B-PERSON), (Ангелина, B-PERSON), (Максим, B-PERSON)]   \n",
              "\n",
              "                                                                                                                                                                                                                                                                                                                                                                                                                                                                                                                                                                                                                                                                                                                                                                                                                  pavlov_rus  \\\n",
              "lower                                                                                                                                                                                                                                                                                                                                                                                                                                                                                                                                                                                                                                                                                                                                                                                                                     []   \n",
              "upper                                                                                                                                                                                                                                                                                                                                                                                  [(КОМПАНИЯ, B-ORG), (ДИДЖИТАЛ, I-ORG), (БИЗНЕС, I-ORG), (ЗВОНИМ, I-ORG), (ВАМ, B-ORG), (ВАС, B-ORG), (КОМПАНИЯ, B-ORG), (ДИДЖИТАЛ, I-ORG), (БИЗНЕС, I-ORG), (ВАМ, B-ORG), (ОБРАТИЛА, B-ORG), (ВНИМАНИЕ, I-ORG), (ЧТО, B-ORG), (ВАС, B-ORG), (ЗАКАНЧИВАЕТСЯ, B-LOC), (КОМПАНИЯ, B-ORG), (ДИДЖИТАЛ, I-ORG), (БИЗНЕС, I-ORG), (ВАМ, B-ORG), (МАКСИМ, B-ORG), (КОМПАНИЯ, B-ORG), (КИТОБИЗНЕС, I-ORG), (УДОБНО, I-ORG), (ГОВОРИТЬ, I-ORG)]   \n",
              "uppercase  [(Зовут, B-PER), (Ангелина, I-PER), (Диджитал, B-PER), (Бизнес, I-PER), (Звоним, I-PER), (Вам, I-PER), (По, I-PER), (А, B-PER), (Мы, I-PER), (С, I-PER), (Серым, I-PER), (Вас, B-PER), (Скоро, I-PER), (Заканчивается, B-LOC), (Зовут, B-PER), (Ангелина, I-PER), (Диджитал, B-PER), (Бизнес, I-PER), (Звоню, I-PER), (Вам, I-PER), (По, I-PER), (А, B-PER), (Мы, I-PER), (Сели, I-PER), (Внимание, B-PER), (Что, I-PER), (Вас, B-PER), (Срок, I-PER), (Заканчивается, I-PER), (Зовут, B-PER), (Ангелина, I-PER), (Диджитал, B-PER), (Бизнес, I-PER), (Звоню, I-PER), (Вам, I-PER), (По, I-PER), (А, B-PER), (Мастера, I-PER), (Мы, I-PER), (С, I-PER), (Вами, I-PER), (Видео, B-PER), (Там, I-PER), (Максим, B-PER), (Зовут, I-PER), (Компания, I-PER), (Китобизнес, I-PER), (Удобно, I-PER), (Говорить, I-PER)]   \n",
              "\n",
              "                                                                                                                                                                                                                                                                                                                                                                                                                                                                        spacy_rus  \n",
              "lower                                                                                                                                                                                                                                                                                                                                                                                                  [((ангелина), PER), ((ангелина), PER), ((ангелина), PER), ((максим), PER)]  \n",
              "upper      [((МЕНЯ, ЗОВУТ), ORG), ((ДИДЖИТАЛ, БИЗНЕС, ЗВОНИМ, ВАМ, ПО, ПОВОДУ, ПРОДЛЕНИЯ, ЛИЦЕНЗИИ, А), ORG), ((ВАС), ORG), ((ДИДЖИТАЛ, БИЗНЕС, ЗВОНЮ, ВАМ, ПО, ПОВОДУ, ПРОДЛЕНИЯ, А, МЫ, СЕЛИ, ОБРАТИЛА, ВНИМАНИЕ, ЧТО, У, ВАС, СРОК, ЗАКАНЧИВАЕТСЯ, \\n, МЕНЯ, ЗОВУТ, АНГЕЛИНА, КОМПАНИЯ, ДИДЖИТАЛ, БИЗНЕС, ЗВОНЮ, ВАМ, ПО, ПОВОДУ, ПРОДЛЕНИЯ, ЛИЦЕНЗИИ, А), ORG), ((МАСТЕРА, МЫ), ORG), ((ВАМИ), ORG), ((МАКСИМ, ЗОВУТ), ORG), ((КОМПАНИЯ, КИТОБИЗНЕС, УДОБНО, ГОВОРИТЬ), ORG)]  \n",
              "uppercase                        [((Вам, По, Поводу, Продления, Лицензии, А, Мы, С, Серым, У, Вас, Скоро, Срок, Заканчивается, \\n, Меня, Зовут, Ангелина), PER), ((Вам, По, Поводу, Продления, А, Мы, Сели, Обратила, Внимание, Что, У, Вас, Срок, Заканчивается, \\n, Меня, Зовут, Ангелина), PER), ((Вам, По, Поводу, Продления, Лицензии, А, Мастера, Мы, С, Вами, Сотрудничали, По, Видео, Там, \\n, Добрый, Меня, Максим, Зовут), PER), ((Китобизнес, Удобно, Говорить), PER)]  "
            ],
            "text/html": [
              "\n",
              "  <div id=\"df-4c640fbd-5559-44a2-82f6-e3f4ad1fe2fa\">\n",
              "    <div class=\"colab-df-container\">\n",
              "      <div>\n",
              "<style scoped>\n",
              "    .dataframe tbody tr th:only-of-type {\n",
              "        vertical-align: middle;\n",
              "    }\n",
              "\n",
              "    .dataframe tbody tr th {\n",
              "        vertical-align: top;\n",
              "    }\n",
              "\n",
              "    .dataframe thead th {\n",
              "        text-align: right;\n",
              "    }\n",
              "</style>\n",
              "<table border=\"1\" class=\"dataframe\">\n",
              "  <thead>\n",
              "    <tr style=\"text-align: right;\">\n",
              "      <th></th>\n",
              "      <th>pavlov_multiligual</th>\n",
              "      <th>pavlov_rus</th>\n",
              "      <th>spacy_rus</th>\n",
              "    </tr>\n",
              "  </thead>\n",
              "  <tbody>\n",
              "    <tr>\n",
              "      <th>lower</th>\n",
              "      <td>[]</td>\n",
              "      <td>[]</td>\n",
              "      <td>[((ангелина), PER), ((ангелина), PER), ((ангелина), PER), ((максим), PER)]</td>\n",
              "    </tr>\n",
              "    <tr>\n",
              "      <th>upper</th>\n",
              "      <td>[]</td>\n",
              "      <td>[(КОМПАНИЯ, B-ORG), (ДИДЖИТАЛ, I-ORG), (БИЗНЕС, I-ORG), (ЗВОНИМ, I-ORG), (ВАМ, B-ORG), (ВАС, B-ORG), (КОМПАНИЯ, B-ORG), (ДИДЖИТАЛ, I-ORG), (БИЗНЕС, I-ORG), (ВАМ, B-ORG), (ОБРАТИЛА, B-ORG), (ВНИМАНИЕ, I-ORG), (ЧТО, B-ORG), (ВАС, B-ORG), (ЗАКАНЧИВАЕТСЯ, B-LOC), (КОМПАНИЯ, B-ORG), (ДИДЖИТАЛ, I-ORG), (БИЗНЕС, I-ORG), (ВАМ, B-ORG), (МАКСИМ, B-ORG), (КОМПАНИЯ, B-ORG), (КИТОБИЗНЕС, I-ORG), (УДОБНО, I-ORG), (ГОВОРИТЬ, I-ORG)]</td>\n",
              "      <td>[((МЕНЯ, ЗОВУТ), ORG), ((ДИДЖИТАЛ, БИЗНЕС, ЗВОНИМ, ВАМ, ПО, ПОВОДУ, ПРОДЛЕНИЯ, ЛИЦЕНЗИИ, А), ORG), ((ВАС), ORG), ((ДИДЖИТАЛ, БИЗНЕС, ЗВОНЮ, ВАМ, ПО, ПОВОДУ, ПРОДЛЕНИЯ, А, МЫ, СЕЛИ, ОБРАТИЛА, ВНИМАНИЕ, ЧТО, У, ВАС, СРОК, ЗАКАНЧИВАЕТСЯ, \\n, МЕНЯ, ЗОВУТ, АНГЕЛИНА, КОМПАНИЯ, ДИДЖИТАЛ, БИЗНЕС, ЗВОНЮ, ВАМ, ПО, ПОВОДУ, ПРОДЛЕНИЯ, ЛИЦЕНЗИИ, А), ORG), ((МАСТЕРА, МЫ), ORG), ((ВАМИ), ORG), ((МАКСИМ, ЗОВУТ), ORG), ((КОМПАНИЯ, КИТОБИЗНЕС, УДОБНО, ГОВОРИТЬ), ORG)]</td>\n",
              "    </tr>\n",
              "    <tr>\n",
              "      <th>uppercase</th>\n",
              "      <td>[(Ангелина, B-PERSON), (Ангелина, B-PERSON), (Ангелина, B-PERSON), (Максим, B-PERSON)]</td>\n",
              "      <td>[(Зовут, B-PER), (Ангелина, I-PER), (Диджитал, B-PER), (Бизнес, I-PER), (Звоним, I-PER), (Вам, I-PER), (По, I-PER), (А, B-PER), (Мы, I-PER), (С, I-PER), (Серым, I-PER), (Вас, B-PER), (Скоро, I-PER), (Заканчивается, B-LOC), (Зовут, B-PER), (Ангелина, I-PER), (Диджитал, B-PER), (Бизнес, I-PER), (Звоню, I-PER), (Вам, I-PER), (По, I-PER), (А, B-PER), (Мы, I-PER), (Сели, I-PER), (Внимание, B-PER), (Что, I-PER), (Вас, B-PER), (Срок, I-PER), (Заканчивается, I-PER), (Зовут, B-PER), (Ангелина, I-PER), (Диджитал, B-PER), (Бизнес, I-PER), (Звоню, I-PER), (Вам, I-PER), (По, I-PER), (А, B-PER), (Мастера, I-PER), (Мы, I-PER), (С, I-PER), (Вами, I-PER), (Видео, B-PER), (Там, I-PER), (Максим, B-PER), (Зовут, I-PER), (Компания, I-PER), (Китобизнес, I-PER), (Удобно, I-PER), (Говорить, I-PER)]</td>\n",
              "      <td>[((Вам, По, Поводу, Продления, Лицензии, А, Мы, С, Серым, У, Вас, Скоро, Срок, Заканчивается, \\n, Меня, Зовут, Ангелина), PER), ((Вам, По, Поводу, Продления, А, Мы, Сели, Обратила, Внимание, Что, У, Вас, Срок, Заканчивается, \\n, Меня, Зовут, Ангелина), PER), ((Вам, По, Поводу, Продления, Лицензии, А, Мастера, Мы, С, Вами, Сотрудничали, По, Видео, Там, \\n, Добрый, Меня, Максим, Зовут), PER), ((Китобизнес, Удобно, Говорить), PER)]</td>\n",
              "    </tr>\n",
              "  </tbody>\n",
              "</table>\n",
              "</div>\n",
              "      <button class=\"colab-df-convert\" onclick=\"convertToInteractive('df-4c640fbd-5559-44a2-82f6-e3f4ad1fe2fa')\"\n",
              "              title=\"Convert this dataframe to an interactive table.\"\n",
              "              style=\"display:none;\">\n",
              "        \n",
              "  <svg xmlns=\"http://www.w3.org/2000/svg\" height=\"24px\"viewBox=\"0 0 24 24\"\n",
              "       width=\"24px\">\n",
              "    <path d=\"M0 0h24v24H0V0z\" fill=\"none\"/>\n",
              "    <path d=\"M18.56 5.44l.94 2.06.94-2.06 2.06-.94-2.06-.94-.94-2.06-.94 2.06-2.06.94zm-11 1L8.5 8.5l.94-2.06 2.06-.94-2.06-.94L8.5 2.5l-.94 2.06-2.06.94zm10 10l.94 2.06.94-2.06 2.06-.94-2.06-.94-.94-2.06-.94 2.06-2.06.94z\"/><path d=\"M17.41 7.96l-1.37-1.37c-.4-.4-.92-.59-1.43-.59-.52 0-1.04.2-1.43.59L10.3 9.45l-7.72 7.72c-.78.78-.78 2.05 0 2.83L4 21.41c.39.39.9.59 1.41.59.51 0 1.02-.2 1.41-.59l7.78-7.78 2.81-2.81c.8-.78.8-2.07 0-2.86zM5.41 20L4 18.59l7.72-7.72 1.47 1.35L5.41 20z\"/>\n",
              "  </svg>\n",
              "      </button>\n",
              "      \n",
              "  <style>\n",
              "    .colab-df-container {\n",
              "      display:flex;\n",
              "      flex-wrap:wrap;\n",
              "      gap: 12px;\n",
              "    }\n",
              "\n",
              "    .colab-df-convert {\n",
              "      background-color: #E8F0FE;\n",
              "      border: none;\n",
              "      border-radius: 50%;\n",
              "      cursor: pointer;\n",
              "      display: none;\n",
              "      fill: #1967D2;\n",
              "      height: 32px;\n",
              "      padding: 0 0 0 0;\n",
              "      width: 32px;\n",
              "    }\n",
              "\n",
              "    .colab-df-convert:hover {\n",
              "      background-color: #E2EBFA;\n",
              "      box-shadow: 0px 1px 2px rgba(60, 64, 67, 0.3), 0px 1px 3px 1px rgba(60, 64, 67, 0.15);\n",
              "      fill: #174EA6;\n",
              "    }\n",
              "\n",
              "    [theme=dark] .colab-df-convert {\n",
              "      background-color: #3B4455;\n",
              "      fill: #D2E3FC;\n",
              "    }\n",
              "\n",
              "    [theme=dark] .colab-df-convert:hover {\n",
              "      background-color: #434B5C;\n",
              "      box-shadow: 0px 1px 3px 1px rgba(0, 0, 0, 0.15);\n",
              "      filter: drop-shadow(0px 1px 2px rgba(0, 0, 0, 0.3));\n",
              "      fill: #FFFFFF;\n",
              "    }\n",
              "  </style>\n",
              "\n",
              "      <script>\n",
              "        const buttonEl =\n",
              "          document.querySelector('#df-4c640fbd-5559-44a2-82f6-e3f4ad1fe2fa button.colab-df-convert');\n",
              "        buttonEl.style.display =\n",
              "          google.colab.kernel.accessAllowed ? 'block' : 'none';\n",
              "\n",
              "        async function convertToInteractive(key) {\n",
              "          const element = document.querySelector('#df-4c640fbd-5559-44a2-82f6-e3f4ad1fe2fa');\n",
              "          const dataTable =\n",
              "            await google.colab.kernel.invokeFunction('convertToInteractive',\n",
              "                                                     [key], {});\n",
              "          if (!dataTable) return;\n",
              "\n",
              "          const docLinkHtml = 'Like what you see? Visit the ' +\n",
              "            '<a target=\"_blank\" href=https://colab.research.google.com/notebooks/data_table.ipynb>data table notebook</a>'\n",
              "            + ' to learn more about interactive tables.';\n",
              "          element.innerHTML = '';\n",
              "          dataTable['output_type'] = 'display_data';\n",
              "          await google.colab.output.renderOutput(dataTable, element);\n",
              "          const docLink = document.createElement('div');\n",
              "          docLink.innerHTML = docLinkHtml;\n",
              "          element.appendChild(docLink);\n",
              "        }\n",
              "      </script>\n",
              "    </div>\n",
              "  </div>\n",
              "  "
            ]
          },
          "metadata": {},
          "execution_count": 117
        }
      ]
    },
    {
      "cell_type": "markdown",
      "source": [
        "Видно, что обнаружить имена смогли модель pavlov_multiligual на датасете, где каждое слово начинается с заглавной буквы, и модель spacy_rus - на датасете, где все слова начинаются с маленькой буквы. Для извлечения имен возьмем модель spacy_rus."
      ],
      "metadata": {
        "id": "jjxBh_Z-qsxH"
      }
    },
    {
      "cell_type": "markdown",
      "source": [
        "При этом, ни одна из моделей не справилась с извлечением организаций. Однако, поскольку диалоги из датасета проводятся по скрипту, можно извлечь названия компаний с помощью правил. Из тестовых сообщений видно, что название организации идет после слова \"компания\" - воспользуемся им и его синонимами."
      ],
      "metadata": {
        "id": "Rulq-VsTsJ9W"
      }
    },
    {
      "cell_type": "code",
      "source": [
        "organizations = '(?:компани|организаци|фирм|холдинг|предприяти)\\w{0,1}\\s*(.*?)(?=\\s*(?:звон|удобн|вам|я))'"
      ],
      "metadata": {
        "id": "JR_69lMGtfg2"
      },
      "execution_count": 226,
      "outputs": []
    },
    {
      "cell_type": "markdown",
      "source": [
        "Для приветствия и прощания тоже удобно использовать правила, т.к. форм приветствия и прощания в официальной речи в русском языке немного."
      ],
      "metadata": {
        "id": "HaRlLPYAtc_d"
      }
    },
    {
      "cell_type": "code",
      "source": [
        "greetings = 'здравствуйте|добр(?:ый|ое)\\s*(?:утро|день|вечер)'\n",
        "farewells = 'всего\\s*доброго|до\\s*(?:свидания|скорого|завтра|встреч|понедельник|вторник|сред|четверг|пятница|суббота|воскресень)'"
      ],
      "metadata": {
        "id": "YSWl90XYCVVo"
      },
      "execution_count": 237,
      "outputs": []
    },
    {
      "cell_type": "markdown",
      "source": [
        "Теперь извлечем данные. Учтем, что менеджер скорее называет компанию в той же фразе, в которой представляется. Кроме того, логично представляться и называть компанию в одной из первых фраз диалога."
      ],
      "metadata": {
        "id": "P_dhOx0kOmQI"
      }
    },
    {
      "cell_type": "code",
      "source": [
        "greet_ids, bye_ids, name_ids, org_ids = [], [], [], []\n",
        "names, orgs = [], []\n",
        "\n",
        "results = []\n",
        "\n",
        "for id in dialogs_id:\n",
        "    dlg = scripts[(scripts.dlg_id == id) & (scripts.role == 'manager')]\n",
        "\n",
        "    greet, bye = dlg[dlg.text.str.contains(greetings)], dlg[dlg.text.str.contains(farewells)]\n",
        "\n",
        "    if len(greet) > 0:\n",
        "      greet_ids.extend(greet.index)\n",
        "      greet = True\n",
        "\n",
        "    else: greet = False\n",
        "\n",
        "    if len(bye) > 0:\n",
        "      bye_ids.extend(bye.index)\n",
        "      bye = True\n",
        "\n",
        "    else: bye = False\n",
        "    \n",
        "    greet = len(dlg[dlg.text.str.contains(greetings)]) > 0\n",
        "    bye = len(dlg[dlg.text.str.contains(farewells)]) > 0\n",
        "    name, org = None, None\n",
        "    dlg_names = dlg[(dlg.text.str.contains('меня')) & (dlg.text.str.contains('зовут'))]\n",
        "    dlg_names = dlg_names[dlg_names.line_n < dlg_names.line_n.min() + 2] #имя должно быть в одной из первых реплик менеджера\n",
        "    name = ner_model_spacy('\\n'.join(dlg_names.text.values)).ents\n",
        "    if name:\n",
        "      name_ids.extend(dlg_names.index)\n",
        "      name = str(name[0])\n",
        "      names.append(name)\n",
        "      org = dlg_names.text.str.findall(organizations).values[0][0]\n",
        "      if org: \n",
        "        org_ids.extend(dlg_names.index)\n",
        "        orgs.append(org)\n",
        "\n",
        "    results.append([greet, bye, name, org])"
      ],
      "metadata": {
        "id": "TyzAy2ZC90zy"
      },
      "execution_count": 316,
      "outputs": []
    },
    {
      "cell_type": "code",
      "source": [
        "summary = pd.DataFrame(results, columns = ['greet', 'farewell', 'name', 'org'])\n",
        "summary.to_csv('dialogs_summary.csv')\n",
        "summary"
      ],
      "metadata": {
        "colab": {
          "base_uri": "https://localhost:8080/",
          "height": 237
        },
        "id": "PhecHcI7PPyw",
        "outputId": "cfb84090-1fe8-4c11-a6db-35f14abf31c5"
      },
      "execution_count": 317,
      "outputs": [
        {
          "output_type": "execute_result",
          "data": {
            "text/plain": [
              "   greet  farewell      name              org\n",
              "0   True      True  ангелина  диджитал бизнес\n",
              "1   True      True  ангелина  диджитал бизнес\n",
              "2   True     False  ангелина  диджитал бизнес\n",
              "3   True      True    максим       китобизнес\n",
              "4  False      True        ()             None\n",
              "5  False      True        ()             None"
            ],
            "text/html": [
              "\n",
              "  <div id=\"df-dfc6f52f-abf5-465d-bf36-a2acd2a5cebc\">\n",
              "    <div class=\"colab-df-container\">\n",
              "      <div>\n",
              "<style scoped>\n",
              "    .dataframe tbody tr th:only-of-type {\n",
              "        vertical-align: middle;\n",
              "    }\n",
              "\n",
              "    .dataframe tbody tr th {\n",
              "        vertical-align: top;\n",
              "    }\n",
              "\n",
              "    .dataframe thead th {\n",
              "        text-align: right;\n",
              "    }\n",
              "</style>\n",
              "<table border=\"1\" class=\"dataframe\">\n",
              "  <thead>\n",
              "    <tr style=\"text-align: right;\">\n",
              "      <th></th>\n",
              "      <th>greet</th>\n",
              "      <th>farewell</th>\n",
              "      <th>name</th>\n",
              "      <th>org</th>\n",
              "    </tr>\n",
              "  </thead>\n",
              "  <tbody>\n",
              "    <tr>\n",
              "      <th>0</th>\n",
              "      <td>True</td>\n",
              "      <td>True</td>\n",
              "      <td>ангелина</td>\n",
              "      <td>диджитал бизнес</td>\n",
              "    </tr>\n",
              "    <tr>\n",
              "      <th>1</th>\n",
              "      <td>True</td>\n",
              "      <td>True</td>\n",
              "      <td>ангелина</td>\n",
              "      <td>диджитал бизнес</td>\n",
              "    </tr>\n",
              "    <tr>\n",
              "      <th>2</th>\n",
              "      <td>True</td>\n",
              "      <td>False</td>\n",
              "      <td>ангелина</td>\n",
              "      <td>диджитал бизнес</td>\n",
              "    </tr>\n",
              "    <tr>\n",
              "      <th>3</th>\n",
              "      <td>True</td>\n",
              "      <td>True</td>\n",
              "      <td>максим</td>\n",
              "      <td>китобизнес</td>\n",
              "    </tr>\n",
              "    <tr>\n",
              "      <th>4</th>\n",
              "      <td>False</td>\n",
              "      <td>True</td>\n",
              "      <td>()</td>\n",
              "      <td>None</td>\n",
              "    </tr>\n",
              "    <tr>\n",
              "      <th>5</th>\n",
              "      <td>False</td>\n",
              "      <td>True</td>\n",
              "      <td>()</td>\n",
              "      <td>None</td>\n",
              "    </tr>\n",
              "  </tbody>\n",
              "</table>\n",
              "</div>\n",
              "      <button class=\"colab-df-convert\" onclick=\"convertToInteractive('df-dfc6f52f-abf5-465d-bf36-a2acd2a5cebc')\"\n",
              "              title=\"Convert this dataframe to an interactive table.\"\n",
              "              style=\"display:none;\">\n",
              "        \n",
              "  <svg xmlns=\"http://www.w3.org/2000/svg\" height=\"24px\"viewBox=\"0 0 24 24\"\n",
              "       width=\"24px\">\n",
              "    <path d=\"M0 0h24v24H0V0z\" fill=\"none\"/>\n",
              "    <path d=\"M18.56 5.44l.94 2.06.94-2.06 2.06-.94-2.06-.94-.94-2.06-.94 2.06-2.06.94zm-11 1L8.5 8.5l.94-2.06 2.06-.94-2.06-.94L8.5 2.5l-.94 2.06-2.06.94zm10 10l.94 2.06.94-2.06 2.06-.94-2.06-.94-.94-2.06-.94 2.06-2.06.94z\"/><path d=\"M17.41 7.96l-1.37-1.37c-.4-.4-.92-.59-1.43-.59-.52 0-1.04.2-1.43.59L10.3 9.45l-7.72 7.72c-.78.78-.78 2.05 0 2.83L4 21.41c.39.39.9.59 1.41.59.51 0 1.02-.2 1.41-.59l7.78-7.78 2.81-2.81c.8-.78.8-2.07 0-2.86zM5.41 20L4 18.59l7.72-7.72 1.47 1.35L5.41 20z\"/>\n",
              "  </svg>\n",
              "      </button>\n",
              "      \n",
              "  <style>\n",
              "    .colab-df-container {\n",
              "      display:flex;\n",
              "      flex-wrap:wrap;\n",
              "      gap: 12px;\n",
              "    }\n",
              "\n",
              "    .colab-df-convert {\n",
              "      background-color: #E8F0FE;\n",
              "      border: none;\n",
              "      border-radius: 50%;\n",
              "      cursor: pointer;\n",
              "      display: none;\n",
              "      fill: #1967D2;\n",
              "      height: 32px;\n",
              "      padding: 0 0 0 0;\n",
              "      width: 32px;\n",
              "    }\n",
              "\n",
              "    .colab-df-convert:hover {\n",
              "      background-color: #E2EBFA;\n",
              "      box-shadow: 0px 1px 2px rgba(60, 64, 67, 0.3), 0px 1px 3px 1px rgba(60, 64, 67, 0.15);\n",
              "      fill: #174EA6;\n",
              "    }\n",
              "\n",
              "    [theme=dark] .colab-df-convert {\n",
              "      background-color: #3B4455;\n",
              "      fill: #D2E3FC;\n",
              "    }\n",
              "\n",
              "    [theme=dark] .colab-df-convert:hover {\n",
              "      background-color: #434B5C;\n",
              "      box-shadow: 0px 1px 3px 1px rgba(0, 0, 0, 0.15);\n",
              "      filter: drop-shadow(0px 1px 2px rgba(0, 0, 0, 0.3));\n",
              "      fill: #FFFFFF;\n",
              "    }\n",
              "  </style>\n",
              "\n",
              "      <script>\n",
              "        const buttonEl =\n",
              "          document.querySelector('#df-dfc6f52f-abf5-465d-bf36-a2acd2a5cebc button.colab-df-convert');\n",
              "        buttonEl.style.display =\n",
              "          google.colab.kernel.accessAllowed ? 'block' : 'none';\n",
              "\n",
              "        async function convertToInteractive(key) {\n",
              "          const element = document.querySelector('#df-dfc6f52f-abf5-465d-bf36-a2acd2a5cebc');\n",
              "          const dataTable =\n",
              "            await google.colab.kernel.invokeFunction('convertToInteractive',\n",
              "                                                     [key], {});\n",
              "          if (!dataTable) return;\n",
              "\n",
              "          const docLinkHtml = 'Like what you see? Visit the ' +\n",
              "            '<a target=\"_blank\" href=https://colab.research.google.com/notebooks/data_table.ipynb>data table notebook</a>'\n",
              "            + ' to learn more about interactive tables.';\n",
              "          element.innerHTML = '';\n",
              "          dataTable['output_type'] = 'display_data';\n",
              "          await google.colab.output.renderOutput(dataTable, element);\n",
              "          const docLink = document.createElement('div');\n",
              "          docLink.innerHTML = docLinkHtml;\n",
              "          element.appendChild(docLink);\n",
              "        }\n",
              "      </script>\n",
              "    </div>\n",
              "  </div>\n",
              "  "
            ]
          },
          "metadata": {},
          "execution_count": 317
        }
      ]
    },
    {
      "cell_type": "code",
      "source": [
        "scripts['insight'] = scripts.index\n",
        "scripts['insight'] = scripts.insight.apply(lambda s:\n",
        "    f'greeting={s in greet_ids}, farewell={s in bye_ids}, name={names[name_ids.index(s)] if s in name_ids else None}, \\\n",
        "org={orgs[org_ids.index(s)] if s in org_ids else None}')\n",
        "scripts.head()"
      ],
      "metadata": {
        "colab": {
          "base_uri": "https://localhost:8080/",
          "height": 337
        },
        "id": "r8gPK761FP4q",
        "outputId": "d82bac6f-2e24-462e-bb95-c94b6be44abf"
      },
      "execution_count": 320,
      "outputs": [
        {
          "output_type": "execute_result",
          "data": {
            "text/plain": [
              "   dlg_id  line_n     role  \\\n",
              "0       0       0   client   \n",
              "1       0       1  manager   \n",
              "2       0       2   client   \n",
              "3       0       3  manager   \n",
              "4       0       4   client   \n",
              "\n",
              "                                                                                                                               text  \\\n",
              "0                                                                                                                              алло   \n",
              "1                                                                                                                 алло здравствуйте   \n",
              "2                                                                                                                       добрый день   \n",
              "3  меня зовут ангелина компания диджитал бизнес звоним вам по поводу продления лицензии а мы с серым у вас скоро срок заканчивается   \n",
              "4                                                                                                                               ага   \n",
              "\n",
              "                                                              insight  \n",
              "0                 greeting=False, farewell=False, name=None, org=None  \n",
              "1                  greeting=True, farewell=False, name=None, org=None  \n",
              "2                 greeting=False, farewell=False, name=None, org=None  \n",
              "3  greeting=False, farewell=False, name=ангелина, org=диджитал бизнес  \n",
              "4                 greeting=False, farewell=False, name=None, org=None  "
            ],
            "text/html": [
              "\n",
              "  <div id=\"df-aa440538-ecda-4535-8655-2b7aa1aa97c8\">\n",
              "    <div class=\"colab-df-container\">\n",
              "      <div>\n",
              "<style scoped>\n",
              "    .dataframe tbody tr th:only-of-type {\n",
              "        vertical-align: middle;\n",
              "    }\n",
              "\n",
              "    .dataframe tbody tr th {\n",
              "        vertical-align: top;\n",
              "    }\n",
              "\n",
              "    .dataframe thead th {\n",
              "        text-align: right;\n",
              "    }\n",
              "</style>\n",
              "<table border=\"1\" class=\"dataframe\">\n",
              "  <thead>\n",
              "    <tr style=\"text-align: right;\">\n",
              "      <th></th>\n",
              "      <th>dlg_id</th>\n",
              "      <th>line_n</th>\n",
              "      <th>role</th>\n",
              "      <th>text</th>\n",
              "      <th>insight</th>\n",
              "    </tr>\n",
              "  </thead>\n",
              "  <tbody>\n",
              "    <tr>\n",
              "      <th>0</th>\n",
              "      <td>0</td>\n",
              "      <td>0</td>\n",
              "      <td>client</td>\n",
              "      <td>алло</td>\n",
              "      <td>greeting=False, farewell=False, name=None, org=None</td>\n",
              "    </tr>\n",
              "    <tr>\n",
              "      <th>1</th>\n",
              "      <td>0</td>\n",
              "      <td>1</td>\n",
              "      <td>manager</td>\n",
              "      <td>алло здравствуйте</td>\n",
              "      <td>greeting=True, farewell=False, name=None, org=None</td>\n",
              "    </tr>\n",
              "    <tr>\n",
              "      <th>2</th>\n",
              "      <td>0</td>\n",
              "      <td>2</td>\n",
              "      <td>client</td>\n",
              "      <td>добрый день</td>\n",
              "      <td>greeting=False, farewell=False, name=None, org=None</td>\n",
              "    </tr>\n",
              "    <tr>\n",
              "      <th>3</th>\n",
              "      <td>0</td>\n",
              "      <td>3</td>\n",
              "      <td>manager</td>\n",
              "      <td>меня зовут ангелина компания диджитал бизнес звоним вам по поводу продления лицензии а мы с серым у вас скоро срок заканчивается</td>\n",
              "      <td>greeting=False, farewell=False, name=ангелина, org=диджитал бизнес</td>\n",
              "    </tr>\n",
              "    <tr>\n",
              "      <th>4</th>\n",
              "      <td>0</td>\n",
              "      <td>4</td>\n",
              "      <td>client</td>\n",
              "      <td>ага</td>\n",
              "      <td>greeting=False, farewell=False, name=None, org=None</td>\n",
              "    </tr>\n",
              "  </tbody>\n",
              "</table>\n",
              "</div>\n",
              "      <button class=\"colab-df-convert\" onclick=\"convertToInteractive('df-aa440538-ecda-4535-8655-2b7aa1aa97c8')\"\n",
              "              title=\"Convert this dataframe to an interactive table.\"\n",
              "              style=\"display:none;\">\n",
              "        \n",
              "  <svg xmlns=\"http://www.w3.org/2000/svg\" height=\"24px\"viewBox=\"0 0 24 24\"\n",
              "       width=\"24px\">\n",
              "    <path d=\"M0 0h24v24H0V0z\" fill=\"none\"/>\n",
              "    <path d=\"M18.56 5.44l.94 2.06.94-2.06 2.06-.94-2.06-.94-.94-2.06-.94 2.06-2.06.94zm-11 1L8.5 8.5l.94-2.06 2.06-.94-2.06-.94L8.5 2.5l-.94 2.06-2.06.94zm10 10l.94 2.06.94-2.06 2.06-.94-2.06-.94-.94-2.06-.94 2.06-2.06.94z\"/><path d=\"M17.41 7.96l-1.37-1.37c-.4-.4-.92-.59-1.43-.59-.52 0-1.04.2-1.43.59L10.3 9.45l-7.72 7.72c-.78.78-.78 2.05 0 2.83L4 21.41c.39.39.9.59 1.41.59.51 0 1.02-.2 1.41-.59l7.78-7.78 2.81-2.81c.8-.78.8-2.07 0-2.86zM5.41 20L4 18.59l7.72-7.72 1.47 1.35L5.41 20z\"/>\n",
              "  </svg>\n",
              "      </button>\n",
              "      \n",
              "  <style>\n",
              "    .colab-df-container {\n",
              "      display:flex;\n",
              "      flex-wrap:wrap;\n",
              "      gap: 12px;\n",
              "    }\n",
              "\n",
              "    .colab-df-convert {\n",
              "      background-color: #E8F0FE;\n",
              "      border: none;\n",
              "      border-radius: 50%;\n",
              "      cursor: pointer;\n",
              "      display: none;\n",
              "      fill: #1967D2;\n",
              "      height: 32px;\n",
              "      padding: 0 0 0 0;\n",
              "      width: 32px;\n",
              "    }\n",
              "\n",
              "    .colab-df-convert:hover {\n",
              "      background-color: #E2EBFA;\n",
              "      box-shadow: 0px 1px 2px rgba(60, 64, 67, 0.3), 0px 1px 3px 1px rgba(60, 64, 67, 0.15);\n",
              "      fill: #174EA6;\n",
              "    }\n",
              "\n",
              "    [theme=dark] .colab-df-convert {\n",
              "      background-color: #3B4455;\n",
              "      fill: #D2E3FC;\n",
              "    }\n",
              "\n",
              "    [theme=dark] .colab-df-convert:hover {\n",
              "      background-color: #434B5C;\n",
              "      box-shadow: 0px 1px 3px 1px rgba(0, 0, 0, 0.15);\n",
              "      filter: drop-shadow(0px 1px 2px rgba(0, 0, 0, 0.3));\n",
              "      fill: #FFFFFF;\n",
              "    }\n",
              "  </style>\n",
              "\n",
              "      <script>\n",
              "        const buttonEl =\n",
              "          document.querySelector('#df-aa440538-ecda-4535-8655-2b7aa1aa97c8 button.colab-df-convert');\n",
              "        buttonEl.style.display =\n",
              "          google.colab.kernel.accessAllowed ? 'block' : 'none';\n",
              "\n",
              "        async function convertToInteractive(key) {\n",
              "          const element = document.querySelector('#df-aa440538-ecda-4535-8655-2b7aa1aa97c8');\n",
              "          const dataTable =\n",
              "            await google.colab.kernel.invokeFunction('convertToInteractive',\n",
              "                                                     [key], {});\n",
              "          if (!dataTable) return;\n",
              "\n",
              "          const docLinkHtml = 'Like what you see? Visit the ' +\n",
              "            '<a target=\"_blank\" href=https://colab.research.google.com/notebooks/data_table.ipynb>data table notebook</a>'\n",
              "            + ' to learn more about interactive tables.';\n",
              "          element.innerHTML = '';\n",
              "          dataTable['output_type'] = 'display_data';\n",
              "          await google.colab.output.renderOutput(dataTable, element);\n",
              "          const docLink = document.createElement('div');\n",
              "          docLink.innerHTML = docLinkHtml;\n",
              "          element.appendChild(docLink);\n",
              "        }\n",
              "      </script>\n",
              "    </div>\n",
              "  </div>\n",
              "  "
            ]
          },
          "metadata": {},
          "execution_count": 320
        }
      ]
    },
    {
      "cell_type": "code",
      "source": [
        "#запись инсайтов в csv-файл\n",
        "scripts.to_csv('test_data.csv')"
      ],
      "metadata": {
        "id": "1XQc7Zu7NKwA"
      },
      "execution_count": 304,
      "outputs": []
    }
  ]
}